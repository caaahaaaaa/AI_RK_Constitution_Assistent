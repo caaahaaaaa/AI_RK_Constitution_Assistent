{
  "cells": [
    {
      "cell_type": "code",
      "execution_count": null,
      "metadata": {
        "colab": {
          "base_uri": "https://localhost:8080/"
        },
        "id": "GeiYOd74vbqW",
        "outputId": "39e37e10-71e5-4763-a8f9-7e924ed9722a"
      },
      "outputs": [
        {
          "name": "stdout",
          "output_type": "stream",
          "text": [
            "Collecting langchain\n",
            "  Downloading langchain-0.1.11-py3-none-any.whl (807 kB)\n",
            "\u001b[2K     \u001b[90m━━━━━━━━━━━━━━━━━━━━━━━━━━━━━━━━━━━━━━━━\u001b[0m \u001b[32m807.5/807.5 kB\u001b[0m \u001b[31m9.5 MB/s\u001b[0m eta \u001b[36m0:00:00\u001b[0m\n",
            "\u001b[?25hCollecting qdrant_client\n",
            "  Downloading qdrant_client-1.8.0-py3-none-any.whl (214 kB)\n",
            "\u001b[2K     \u001b[90m━━━━━━━━━━━━━━━━━━━━━━━━━━━━━━━━━━━━━━━━\u001b[0m \u001b[32m214.4/214.4 kB\u001b[0m \u001b[31m12.6 MB/s\u001b[0m eta \u001b[36m0:00:00\u001b[0m\n",
            "\u001b[?25hCollecting openai\n",
            "  Downloading openai-1.13.3-py3-none-any.whl (227 kB)\n",
            "\u001b[2K     \u001b[90m━━━━━━━━━━━━━━━━━━━━━━━━━━━━━━━━━━━━━━━━\u001b[0m \u001b[32m227.4/227.4 kB\u001b[0m \u001b[31m14.0 MB/s\u001b[0m eta \u001b[36m0:00:00\u001b[0m\n",
            "\u001b[?25hCollecting tiktoken\n",
            "  Downloading tiktoken-0.6.0-cp310-cp310-manylinux_2_17_x86_64.manylinux2014_x86_64.whl (1.8 MB)\n",
            "\u001b[2K     \u001b[90m━━━━━━━━━━━━━━━━━━━━━━━━━━━━━━━━━━━━━━━━\u001b[0m \u001b[32m1.8/1.8 MB\u001b[0m \u001b[31m27.8 MB/s\u001b[0m eta \u001b[36m0:00:00\u001b[0m\n",
            "\u001b[?25hRequirement already satisfied: PyYAML>=5.3 in /usr/local/lib/python3.10/dist-packages (from langchain) (6.0.1)\n",
            "Requirement already satisfied: SQLAlchemy<3,>=1.4 in /usr/local/lib/python3.10/dist-packages (from langchain) (2.0.28)\n",
            "Requirement already satisfied: aiohttp<4.0.0,>=3.8.3 in /usr/local/lib/python3.10/dist-packages (from langchain) (3.9.3)\n",
            "Requirement already satisfied: async-timeout<5.0.0,>=4.0.0 in /usr/local/lib/python3.10/dist-packages (from langchain) (4.0.3)\n",
            "Collecting dataclasses-json<0.7,>=0.5.7 (from langchain)\n",
            "  Downloading dataclasses_json-0.6.4-py3-none-any.whl (28 kB)\n",
            "Collecting jsonpatch<2.0,>=1.33 (from langchain)\n",
            "  Downloading jsonpatch-1.33-py2.py3-none-any.whl (12 kB)\n",
            "Collecting langchain-community<0.1,>=0.0.25 (from langchain)\n",
            "  Downloading langchain_community-0.0.27-py3-none-any.whl (1.8 MB)\n",
            "\u001b[2K     \u001b[90m━━━━━━━━━━━━━━━━━━━━━━━━━━━━━━━━━━━━━━━━\u001b[0m \u001b[32m1.8/1.8 MB\u001b[0m \u001b[31m38.3 MB/s\u001b[0m eta \u001b[36m0:00:00\u001b[0m\n",
            "\u001b[?25hCollecting langchain-core<0.2,>=0.1.29 (from langchain)\n",
            "  Downloading langchain_core-0.1.30-py3-none-any.whl (256 kB)\n",
            "\u001b[2K     \u001b[90m━━━━━━━━━━━━━━━━━━━━━━━━━━━━━━━━━━━━━━━━\u001b[0m \u001b[32m256.9/256.9 kB\u001b[0m \u001b[31m30.0 MB/s\u001b[0m eta \u001b[36m0:00:00\u001b[0m\n",
            "\u001b[?25hCollecting langchain-text-splitters<0.1,>=0.0.1 (from langchain)\n",
            "  Downloading langchain_text_splitters-0.0.1-py3-none-any.whl (21 kB)\n",
            "Collecting langsmith<0.2.0,>=0.1.17 (from langchain)\n",
            "  Downloading langsmith-0.1.23-py3-none-any.whl (66 kB)\n",
            "\u001b[2K     \u001b[90m━━━━━━━━━━━━━━━━━━━━━━━━━━━━━━━━━━━━━━━━\u001b[0m \u001b[32m66.6/66.6 kB\u001b[0m \u001b[31m9.5 MB/s\u001b[0m eta \u001b[36m0:00:00\u001b[0m\n",
            "\u001b[?25hRequirement already satisfied: numpy<2,>=1 in /usr/local/lib/python3.10/dist-packages (from langchain) (1.25.2)\n",
            "Requirement already satisfied: pydantic<3,>=1 in /usr/local/lib/python3.10/dist-packages (from langchain) (2.6.3)\n",
            "Requirement already satisfied: requests<3,>=2 in /usr/local/lib/python3.10/dist-packages (from langchain) (2.31.0)\n",
            "Requirement already satisfied: tenacity<9.0.0,>=8.1.0 in /usr/local/lib/python3.10/dist-packages (from langchain) (8.2.3)\n",
            "Requirement already satisfied: grpcio>=1.41.0 in /usr/local/lib/python3.10/dist-packages (from qdrant_client) (1.62.0)\n",
            "Collecting grpcio-tools>=1.41.0 (from qdrant_client)\n",
            "  Downloading grpcio_tools-1.62.1-cp310-cp310-manylinux_2_17_x86_64.manylinux2014_x86_64.whl (2.8 MB)\n",
            "\u001b[2K     \u001b[90m━━━━━━━━━━━━━━━━━━━━━━━━━━━━━━━━━━━━━━━━\u001b[0m \u001b[32m2.8/2.8 MB\u001b[0m \u001b[31m46.6 MB/s\u001b[0m eta \u001b[36m0:00:00\u001b[0m\n",
            "\u001b[?25hCollecting httpx[http2]>=0.14.0 (from qdrant_client)\n",
            "  Downloading httpx-0.27.0-py3-none-any.whl (75 kB)\n",
            "\u001b[2K     \u001b[90m━━━━━━━━━━━━━━━━━━━━━━━━━━━━━━━━━━━━━━━━\u001b[0m \u001b[32m75.6/75.6 kB\u001b[0m \u001b[31m7.6 MB/s\u001b[0m eta \u001b[36m0:00:00\u001b[0m\n",
            "\u001b[?25hCollecting portalocker<3.0.0,>=2.7.0 (from qdrant_client)\n",
            "  Downloading portalocker-2.8.2-py3-none-any.whl (17 kB)\n",
            "Requirement already satisfied: urllib3<3,>=1.26.14 in /usr/local/lib/python3.10/dist-packages (from qdrant_client) (2.0.7)\n",
            "Requirement already satisfied: anyio<5,>=3.5.0 in /usr/local/lib/python3.10/dist-packages (from openai) (3.7.1)\n",
            "Requirement already satisfied: distro<2,>=1.7.0 in /usr/lib/python3/dist-packages (from openai) (1.7.0)\n",
            "Requirement already satisfied: sniffio in /usr/local/lib/python3.10/dist-packages (from openai) (1.3.1)\n",
            "Requirement already satisfied: tqdm>4 in /usr/local/lib/python3.10/dist-packages (from openai) (4.66.2)\n",
            "Requirement already satisfied: typing-extensions<5,>=4.7 in /usr/local/lib/python3.10/dist-packages (from openai) (4.10.0)\n",
            "Requirement already satisfied: regex>=2022.1.18 in /usr/local/lib/python3.10/dist-packages (from tiktoken) (2023.12.25)\n",
            "Requirement already satisfied: aiosignal>=1.1.2 in /usr/local/lib/python3.10/dist-packages (from aiohttp<4.0.0,>=3.8.3->langchain) (1.3.1)\n",
            "Requirement already satisfied: attrs>=17.3.0 in /usr/local/lib/python3.10/dist-packages (from aiohttp<4.0.0,>=3.8.3->langchain) (23.2.0)\n",
            "Requirement already satisfied: frozenlist>=1.1.1 in /usr/local/lib/python3.10/dist-packages (from aiohttp<4.0.0,>=3.8.3->langchain) (1.4.1)\n",
            "Requirement already satisfied: multidict<7.0,>=4.5 in /usr/local/lib/python3.10/dist-packages (from aiohttp<4.0.0,>=3.8.3->langchain) (6.0.5)\n",
            "Requirement already satisfied: yarl<2.0,>=1.0 in /usr/local/lib/python3.10/dist-packages (from aiohttp<4.0.0,>=3.8.3->langchain) (1.9.4)\n",
            "Requirement already satisfied: idna>=2.8 in /usr/local/lib/python3.10/dist-packages (from anyio<5,>=3.5.0->openai) (3.6)\n",
            "Requirement already satisfied: exceptiongroup in /usr/local/lib/python3.10/dist-packages (from anyio<5,>=3.5.0->openai) (1.2.0)\n",
            "Collecting marshmallow<4.0.0,>=3.18.0 (from dataclasses-json<0.7,>=0.5.7->langchain)\n",
            "  Downloading marshmallow-3.21.1-py3-none-any.whl (49 kB)\n",
            "\u001b[2K     \u001b[90m━━━━━━━━━━━━━━━━━━━━━━━━━━━━━━━━━━━━━━━━\u001b[0m \u001b[32m49.4/49.4 kB\u001b[0m \u001b[31m6.0 MB/s\u001b[0m eta \u001b[36m0:00:00\u001b[0m\n",
            "\u001b[?25hCollecting typing-inspect<1,>=0.4.0 (from dataclasses-json<0.7,>=0.5.7->langchain)\n",
            "  Downloading typing_inspect-0.9.0-py3-none-any.whl (8.8 kB)\n",
            "Collecting protobuf<5.0dev,>=4.21.6 (from grpcio-tools>=1.41.0->qdrant_client)\n",
            "  Downloading protobuf-4.25.3-cp37-abi3-manylinux2014_x86_64.whl (294 kB)\n",
            "\u001b[2K     \u001b[90m━━━━━━━━━━━━━━━━━━━━━━━━━━━━━━━━━━━━━━━━\u001b[0m \u001b[32m294.6/294.6 kB\u001b[0m \u001b[31m12.1 MB/s\u001b[0m eta \u001b[36m0:00:00\u001b[0m\n",
            "\u001b[?25hCollecting grpcio>=1.41.0 (from qdrant_client)\n",
            "  Downloading grpcio-1.62.1-cp310-cp310-manylinux_2_17_x86_64.manylinux2014_x86_64.whl (5.5 MB)\n",
            "\u001b[2K     \u001b[90m━━━━━━━━━━━━━━━━━━━━━━━━━━━━━━━━━━━━━━━━\u001b[0m \u001b[32m5.5/5.5 MB\u001b[0m \u001b[31m75.0 MB/s\u001b[0m eta \u001b[36m0:00:00\u001b[0m\n",
            "\u001b[?25hRequirement already satisfied: setuptools in /usr/local/lib/python3.10/dist-packages (from grpcio-tools>=1.41.0->qdrant_client) (67.7.2)\n",
            "Requirement already satisfied: certifi in /usr/local/lib/python3.10/dist-packages (from httpx[http2]>=0.14.0->qdrant_client) (2024.2.2)\n",
            "Collecting httpcore==1.* (from httpx[http2]>=0.14.0->qdrant_client)\n",
            "  Downloading httpcore-1.0.4-py3-none-any.whl (77 kB)\n",
            "\u001b[2K     \u001b[90m━━━━━━━━━━━━━━━━━━━━━━━━━━━━━━━━━━━━━━━━\u001b[0m \u001b[32m77.8/77.8 kB\u001b[0m \u001b[31m11.9 MB/s\u001b[0m eta \u001b[36m0:00:00\u001b[0m\n",
            "\u001b[?25hCollecting h11<0.15,>=0.13 (from httpcore==1.*->httpx[http2]>=0.14.0->qdrant_client)\n",
            "  Downloading h11-0.14.0-py3-none-any.whl (58 kB)\n",
            "\u001b[2K     \u001b[90m━━━━━━━━━━━━━━━━━━━━━━━━━━━━━━━━━━━━━━━━\u001b[0m \u001b[32m58.3/58.3 kB\u001b[0m \u001b[31m8.6 MB/s\u001b[0m eta \u001b[36m0:00:00\u001b[0m\n",
            "\u001b[?25hCollecting h2<5,>=3 (from httpx[http2]>=0.14.0->qdrant_client)\n",
            "  Downloading h2-4.1.0-py3-none-any.whl (57 kB)\n",
            "\u001b[2K     \u001b[90m━━━━━━━━━━━━━━━━━━━━━━━━━━━━━━━━━━━━━━━━\u001b[0m \u001b[32m57.5/57.5 kB\u001b[0m \u001b[31m8.4 MB/s\u001b[0m eta \u001b[36m0:00:00\u001b[0m\n",
            "\u001b[?25hCollecting jsonpointer>=1.9 (from jsonpatch<2.0,>=1.33->langchain)\n",
            "  Downloading jsonpointer-2.4-py2.py3-none-any.whl (7.8 kB)\n",
            "Requirement already satisfied: packaging<24.0,>=23.2 in /usr/local/lib/python3.10/dist-packages (from langchain-core<0.2,>=0.1.29->langchain) (23.2)\n",
            "Collecting orjson<4.0.0,>=3.9.14 (from langsmith<0.2.0,>=0.1.17->langchain)\n",
            "  Downloading orjson-3.9.15-cp310-cp310-manylinux_2_17_x86_64.manylinux2014_x86_64.whl (138 kB)\n",
            "\u001b[2K     \u001b[90m━━━━━━━━━━━━━━━━━━━━━━━━━━━━━━━━━━━━━━━━\u001b[0m \u001b[32m138.5/138.5 kB\u001b[0m \u001b[31m18.4 MB/s\u001b[0m eta \u001b[36m0:00:00\u001b[0m\n",
            "\u001b[?25hRequirement already satisfied: annotated-types>=0.4.0 in /usr/local/lib/python3.10/dist-packages (from pydantic<3,>=1->langchain) (0.6.0)\n",
            "Requirement already satisfied: pydantic-core==2.16.3 in /usr/local/lib/python3.10/dist-packages (from pydantic<3,>=1->langchain) (2.16.3)\n",
            "Requirement already satisfied: charset-normalizer<4,>=2 in /usr/local/lib/python3.10/dist-packages (from requests<3,>=2->langchain) (3.3.2)\n",
            "Requirement already satisfied: greenlet!=0.4.17 in /usr/local/lib/python3.10/dist-packages (from SQLAlchemy<3,>=1.4->langchain) (3.0.3)\n",
            "Collecting hyperframe<7,>=6.0 (from h2<5,>=3->httpx[http2]>=0.14.0->qdrant_client)\n",
            "  Downloading hyperframe-6.0.1-py3-none-any.whl (12 kB)\n",
            "Collecting hpack<5,>=4.0 (from h2<5,>=3->httpx[http2]>=0.14.0->qdrant_client)\n",
            "  Downloading hpack-4.0.0-py3-none-any.whl (32 kB)\n",
            "Collecting mypy-extensions>=0.3.0 (from typing-inspect<1,>=0.4.0->dataclasses-json<0.7,>=0.5.7->langchain)\n",
            "  Downloading mypy_extensions-1.0.0-py3-none-any.whl (4.7 kB)\n",
            "Installing collected packages: protobuf, portalocker, orjson, mypy-extensions, marshmallow, jsonpointer, hyperframe, hpack, h11, grpcio, typing-inspect, tiktoken, jsonpatch, httpcore, h2, grpcio-tools, langsmith, httpx, dataclasses-json, openai, langchain-core, qdrant_client, langchain-text-splitters, langchain-community, langchain\n",
            "  Attempting uninstall: protobuf\n",
            "    Found existing installation: protobuf 3.20.3\n",
            "    Uninstalling protobuf-3.20.3:\n",
            "      Successfully uninstalled protobuf-3.20.3\n",
            "  Attempting uninstall: grpcio\n",
            "    Found existing installation: grpcio 1.62.0\n",
            "    Uninstalling grpcio-1.62.0:\n",
            "      Successfully uninstalled grpcio-1.62.0\n",
            "\u001b[31mERROR: pip's dependency resolver does not currently take into account all the packages that are installed. This behaviour is the source of the following dependency conflicts.\n",
            "tensorflow-metadata 1.14.0 requires protobuf<4.21,>=3.20.3, but you have protobuf 4.25.3 which is incompatible.\u001b[0m\u001b[31m\n",
            "\u001b[0mSuccessfully installed dataclasses-json-0.6.4 grpcio-1.62.1 grpcio-tools-1.62.1 h11-0.14.0 h2-4.1.0 hpack-4.0.0 httpcore-1.0.4 httpx-0.27.0 hyperframe-6.0.1 jsonpatch-1.33 jsonpointer-2.4 langchain-0.1.11 langchain-community-0.0.27 langchain-core-0.1.30 langchain-text-splitters-0.0.1 langsmith-0.1.23 marshmallow-3.21.1 mypy-extensions-1.0.0 openai-1.13.3 orjson-3.9.15 portalocker-2.8.2 protobuf-4.25.3 qdrant_client-1.8.0 tiktoken-0.6.0 typing-inspect-0.9.0\n"
          ]
        }
      ],
      "source": [
        "!pip install langchain qdrant_client openai tiktoken"
      ]
    },
    {
      "cell_type": "markdown",
      "metadata": {
        "id": "05bxYagHv3d2"
      },
      "source": []
    },
    {
      "cell_type": "code",
      "execution_count": null,
      "metadata": {
        "id": "zxFuHTM_ve1y"
      },
      "outputs": [],
      "source": [
        "from langchain.vectorstores import Qdrant\n",
        "from langchain.embeddings.openai import OpenAIEmbeddings\n",
        "from langchain.llms import OpenAI\n",
        "import qdrant_client\n",
        "import os"
      ]
    },
    {
      "cell_type": "code",
      "execution_count": null,
      "metadata": {
        "id": "ZuI0b-QVvn1L"
      },
      "outputs": [],
      "source": [
        "os.environ['QDRANT_HOST'] = \"\"\n",
        "os.environ['QDRANT_API_KEY'] = \"\"\n",
        "\n",
        "client = qdrant_client.QdrantClient(\n",
        "    os.getenv(\"QDRANT_HOST\"),\n",
        "    api_key=os.getenv(\"QDRANT_API_KEY\")\n",
        ")"
      ]
    },
    {
      "cell_type": "code",
      "execution_count": null,
      "metadata": {
        "colab": {
          "base_uri": "https://localhost:8080/"
        },
        "id": "r0kWQj_wvno7",
        "outputId": "9ad51988-6ca8-40c3-9186-cec277e189a9"
      },
      "outputs": [
        {
          "data": {
            "text/plain": [
              "True"
            ]
          },
          "execution_count": 13,
          "metadata": {},
          "output_type": "execute_result"
        }
      ],
      "source": [
        "from qdrant_client.http import models\n",
        "\n",
        "os.environ[\"QDRANT_COLLECTION_NAME\"] = \"\"\n",
        "#vectors_config = qdrant_client.http.models.VectorParams(\n",
        "#    size=1536,\n",
        "#    distance=qdrant_client.http.models.Distance.COSINE\n",
        "#    )\n",
        "\n",
        "client.create_collection(\n",
        "    collection_name=os.getenv(\"QDRANT_COLLECTION_NAME\"),\n",
        "    vectors_config=models.VectorParams(size=1536, distance=models.Distance.COSINE),\n",
        ")"
      ]
    },
    {
      "cell_type": "code",
      "execution_count": null,
      "metadata": {
        "colab": {
          "base_uri": "https://localhost:8080/"
        },
        "id": "ZZzJ6Z_avnhW",
        "outputId": "912a7c1f-740c-473c-ec2a-9eaf7224808a"
      },
      "outputs": [
        {
          "name": "stderr",
          "output_type": "stream",
          "text": [
            "/usr/local/lib/python3.10/dist-packages/langchain_core/_api/deprecation.py:117: LangChainDeprecationWarning: The class `langchain_community.embeddings.openai.OpenAIEmbeddings` was deprecated in langchain-community 0.0.9 and will be removed in 0.2.0. An updated version of the class exists in the langchain-openai package and should be used instead. To use it run `pip install -U langchain-openai` and import as `from langchain_openai import OpenAIEmbeddings`.\n",
            "  warn_deprecated(\n"
          ]
        }
      ],
      "source": [
        "os.environ[\"OPENAI_API_KEY\"] = \"\"\n",
        "\n",
        "embeddings = OpenAIEmbeddings()\n",
        "\n",
        "vector_store = Qdrant(\n",
        "    client=client,\n",
        "    collection_name=os.getenv(\"QDRANT_COLLECTION_NAME\"),\n",
        "    embeddings=embeddings,\n",
        ")"
      ]
    },
    {
      "cell_type": "code",
      "execution_count": null,
      "metadata": {
        "colab": {
          "base_uri": "https://localhost:8080/"
        },
        "id": "OibqXxG9vnZ-",
        "outputId": "9a1760aa-b744-4d04-bd0b-e05a41419a77"
      },
      "outputs": [
        {
          "data": {
            "text/plain": [
              "['0dbc1be1739e403c8ae285e62d739307',\n",
              " 'a223ee925a984961a298654481bd0771',\n",
              " 'e95557853ebb400fb740149da4f1e654',\n",
              " 'f2043e5c94944803ba5ef2676ad574ef',\n",
              " 'b824e17c67b94cd4a5de9501e8c195c5',\n",
              " '6d526f90f27b4b68a47b7bfdc95b1943',\n",
              " '731eadf4a07043d1b915e6ca5dc56204',\n",
              " '7c0adde633a74191b3b9aeb179a2433f',\n",
              " '1bd01f0811a9417abb4c2bb1bc34bab6',\n",
              " 'f391d4b19934486891235d1f69960aed',\n",
              " '54febe4b72de479dafa58d68d1b18301',\n",
              " '21bdde3f35d84ebca4ce3cf8a016c610',\n",
              " 'c72ec47811cb46d5beadeeef47e64344',\n",
              " 'afb0050c706e4123885f2bc9c1e8507b',\n",
              " 'ec631e5689354fb3a9e17dc7791a0679',\n",
              " '01094f53220642f8b34a100af6510069',\n",
              " '5e4310dec1704627a4a0c7c48932af92',\n",
              " '9e476c971af94ede807a5bce9f168132',\n",
              " '50588a171b1e4b33b55be38d5cf6721d',\n",
              " 'e5a541091c684ab5bf3a315c5410380a',\n",
              " 'f8fe1acad44942629aece96ccae322a8',\n",
              " '06c073be5f3b452c99d598b93f79b33e',\n",
              " '6bc8455de6064679afee2062f8c41133',\n",
              " 'c8786c9c983d4d32869825fdbc93c71e',\n",
              " 'e499054699664cf4a0ac0d04f2ec700e',\n",
              " 'a58892aca53441b0955ab91729baf824',\n",
              " 'be589d8078414d20bd36097b6bc3064d',\n",
              " 'ea0d198abd9e46dd8fbb180d5a270ecc',\n",
              " '486171192fad40f0bab831f2e9146d9b',\n",
              " '22814e2df8ef4931964fa3736ddcbdb9',\n",
              " 'e4e22b4e0db4432285588e1a7cdbf792',\n",
              " 'f95fcf7a444c421297c8ca45316a197e',\n",
              " '2d6af211636b42d080be628eb903ed42',\n",
              " '4fe7c10578d04cfd8e1c41f260e114ec',\n",
              " 'bbc91eacce4d487f963c542e146b2455',\n",
              " 'dd1a051550864c88b7b8623b696990bf',\n",
              " 'e591c794c2ed40789f43e98dbba22d5b',\n",
              " 'e4390b2e869646a8b77ab00a9537c3bb',\n",
              " 'ddaeb07a7d43453e9c708a312c4cee8e',\n",
              " 'd1de4b12c24c40b09f60259fb0c07a18',\n",
              " 'bd945e78ab4d405ea18e00c260b9885f',\n",
              " '027e63b65acf46979ad902cc8430d114',\n",
              " '451ab5af45c94a538f4c707562a94c48',\n",
              " '8ec4f645dae24f389918fb2bcb0c9807',\n",
              " '3d7138b75ddd446bb25a19e6b6a13670',\n",
              " '1a6227ffba0541fe9bf01e8e5ab9b13e',\n",
              " '4324855e0e9b40df834046e60f19ffaa',\n",
              " '52eb7eab982048b0a73551bd8aa21984',\n",
              " '29e153ae2fbb4384ab8c5e6e9895cbd2',\n",
              " '28b94f44f4e7497f978957fa06533351',\n",
              " '03f4091befbc45d0a723eb215c93c522',\n",
              " '1f920957e93f4e52a1653cefdfa56069',\n",
              " '07d7dd01c77a4836985b8491432dd9a3',\n",
              " '4a38c12336f54526a6588d78e3cb4f73',\n",
              " '9b18665915394a0ebcff2c93a1e02785',\n",
              " 'a0372177cc5a4e729c69902ded77ba75',\n",
              " '09c48b0490eb4e07b57f407efae60120',\n",
              " 'd96f1be4d92d40d2923f57750a74f979',\n",
              " 'b7e872bd87324e4ab93851372a619c9b',\n",
              " 'bb3bc54bfe524d548ea16ae436f9226d',\n",
              " 'b3de1c790ae6480e8db761b438440516',\n",
              " '153c2d4429af4891bfd1bee9fb792da9',\n",
              " '8f3bf1a4dffb45dd9feca699ab7b358c',\n",
              " '4d7cb1daeee94e4584582dd0c11e3b78',\n",
              " '7ae9009836774d40b3b88690399dea34',\n",
              " 'a202ae303aea40d691171112ee4bfb50',\n",
              " '2cda8df9d827424c9ed8a103910e8797',\n",
              " '14a34125ec7e45eb9e4e36d02811cc32',\n",
              " '8a1ce5eec28346ee8aa8b96bfc6ad169',\n",
              " 'a8e6a9a945954e17a833ac8980e4606a',\n",
              " '82ca4854544d45c7ae463e1e2611125e',\n",
              " '606b5325cef34499b10d1bcfeec9e000',\n",
              " 'b93f39a4f6b5458d8c876ece2934b509',\n",
              " '2532becb017f4820844f25d487b3637d',\n",
              " '2bd2f56824a343b7b59248d76105f6d9',\n",
              " '04a7d42f1e0742ee85f47f5b5381f201',\n",
              " 'ef13e56687ee4a729454f298846ac83f',\n",
              " 'a4c612d287014bc49e6a28e8ecaf8efd',\n",
              " 'e14532102d6a4b0295dbe86d49ae48ed',\n",
              " '38b1c56f4a0d4766a8817bdbb54fc35e',\n",
              " 'bcd0eec5c2634de1a4f1161cadda6552',\n",
              " '4ef45a6c7e4e4bbbaeed0b6a20945077',\n",
              " '54b63f32098e46cbb82eba5237736aad',\n",
              " '9b3c6db0562c42519ead651d63d959a5',\n",
              " '376cdf0a1cbd4243bbd324be2ba2391d',\n",
              " '3f1c6d2fb714456ea0813730b30315b4',\n",
              " 'a8c1169398e74985a63cb8c91b49d9f8',\n",
              " '5f158cea87504f3d8462023cebca68d0',\n",
              " 'd87bff1057c54f3bb318565716ca05d4',\n",
              " 'ce34d45858fa4bdf89d2007fa5f57b98',\n",
              " 'bc37b6136f42436b804b34a501d84bfe',\n",
              " 'dee55b7d251c4ee793dde2fb5ff44e0a',\n",
              " '525981eec9bd423ab3aa3ddca1063cf3',\n",
              " '1c7dd889efc643859e4cbbc8ae34910c',\n",
              " '7b5056b496a94b8f87e946728e93034a',\n",
              " '8594d764123b45d9959b3a466b36f882',\n",
              " '214b338330d149f691f6a97bbd9b8cbc',\n",
              " '7e1de573360f4885a01b920ad43ecb84',\n",
              " '5b8fc5f441cd48c4af93faf937cec60a',\n",
              " 'ef4040a8a9fc45b1ae57f5c6366d6cda',\n",
              " 'bf6587b92d734be2a6554eabd70f9804',\n",
              " '0e3d5613fe8040429cc70718606c45b2',\n",
              " 'a24a600d873043ec926d45a63351570e',\n",
              " 'b12298c7f2584a43bf301c0f8384074f',\n",
              " 'ed69c5b59bac4bd7b9a76bedfa92db98',\n",
              " '07b857dae5084f5391c929c7220b9585',\n",
              " '90307a3d323d4758ac626a64d34bbbce',\n",
              " 'f56f59ddcd68420884fdecc5fbee5cc9',\n",
              " '6e307670414c42a4b5dd483b0f5194b2',\n",
              " '37d2ddcc1a1b4ecca43ae84795728150',\n",
              " 'fee35661600a4b2cbbc3e3b324eb25e7',\n",
              " '9a658bfb4cf2465ca0b0d6f5b012e560',\n",
              " 'd4fce3cee42f4327b8bea68d67341e67',\n",
              " '4e49e686dc4a4fefbac31a3d4c7e31cf',\n",
              " 'f3dcea7fcd234812880fefa77374486c',\n",
              " 'cb6d6f2ebd1848659271a05c6fc01d70',\n",
              " '61cb041b16a34340a0f15c2f22f213b9',\n",
              " 'f3a8137c794b4c0bb99878047edce27a',\n",
              " '900d832a81e24b779f3ac2d298a27dc9']"
            ]
          },
          "execution_count": 7,
          "metadata": {},
          "output_type": "execute_result"
        }
      ],
      "source": [
        "from langchain.text_splitter import CharacterTextSplitter\n",
        "\n",
        "def get_chunks(text):\n",
        "  text_splitter = CharacterTextSplitter(\n",
        "      separator=\"\\n\",\n",
        "      chunk_size=1000,\n",
        "      chunk_overlap=200,\n",
        "      length_function=len\n",
        "  )\n",
        "\n",
        "  chunks = text_splitter.split_text(text)\n",
        "  return chunks\n",
        "\n",
        "with open('/content/constitution.txt') as f:\n",
        "  raw_text = f.read()\n",
        "\n",
        "texts = get_chunks(raw_text)\n",
        "\n",
        "vector_store.add_texts(texts)\n"
      ]
    }
  ],
  "metadata": {
    "colab": {
      "provenance": []
    },
    "kernelspec": {
      "display_name": "Python 3",
      "name": "python3"
    },
    "language_info": {
      "name": "python"
    }
  },
  "nbformat": 4,
  "nbformat_minor": 0
}
